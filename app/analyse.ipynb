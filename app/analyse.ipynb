{
 "cells": [
  {
   "cell_type": "code",
   "execution_count": 1,
   "metadata": {},
   "outputs": [],
   "source": [
    "import pandas as pd"
   ]
  },
  {
   "cell_type": "code",
   "execution_count": 2,
   "metadata": {},
   "outputs": [],
   "source": [
    "df = pd.read_csv('/home/rajarabii/projects/data_basa_immobiliers/data/appartemetn.csv')"
   ]
  },
  {
   "cell_type": "code",
   "execution_count": 3,
   "metadata": {},
   "outputs": [
    {
     "data": {
      "text/html": [
       "<div>\n",
       "<style scoped>\n",
       "    .dataframe tbody tr th:only-of-type {\n",
       "        vertical-align: middle;\n",
       "    }\n",
       "\n",
       "    .dataframe tbody tr th {\n",
       "        vertical-align: top;\n",
       "    }\n",
       "\n",
       "    .dataframe thead th {\n",
       "        text-align: right;\n",
       "    }\n",
       "</style>\n",
       "<table border=\"1\" class=\"dataframe\">\n",
       "  <thead>\n",
       "    <tr style=\"text-align: right;\">\n",
       "      <th></th>\n",
       "      <th>title</th>\n",
       "      <th>price</th>\n",
       "      <th>datetime</th>\n",
       "      <th>nb_rooms</th>\n",
       "      <th>nb_baths</th>\n",
       "      <th>surface_area</th>\n",
       "      <th>link</th>\n",
       "      <th>city_name</th>\n",
       "      <th>equipements</th>\n",
       "    </tr>\n",
       "  </thead>\n",
       "  <tbody>\n",
       "    <tr>\n",
       "      <th>0</th>\n",
       "      <td>Maison avec piscine</td>\n",
       "      <td>250000</td>\n",
       "      <td>2024-12-01 14:00:00</td>\n",
       "      <td>4</td>\n",
       "      <td>2</td>\n",
       "      <td>120</td>\n",
       "      <td>https://example.com/maison1</td>\n",
       "      <td>Casablanca</td>\n",
       "      <td>Piscine/Sauna/Garage</td>\n",
       "    </tr>\n",
       "    <tr>\n",
       "      <th>1</th>\n",
       "      <td>Appartement spacieux</td>\n",
       "      <td>150000</td>\n",
       "      <td>2024-12-05 10:00:00</td>\n",
       "      <td>3</td>\n",
       "      <td>1</td>\n",
       "      <td>85</td>\n",
       "      <td>https://example.com/appartement1</td>\n",
       "      <td>Rabat</td>\n",
       "      <td>Balcon/Ascenseur</td>\n",
       "    </tr>\n",
       "    <tr>\n",
       "      <th>2</th>\n",
       "      <td>Villa de luxe</td>\n",
       "      <td>500000</td>\n",
       "      <td>2024-11-20 18:00:00</td>\n",
       "      <td>6</td>\n",
       "      <td>4</td>\n",
       "      <td>300</td>\n",
       "      <td>https://example.com/villa1</td>\n",
       "      <td>Marrakech</td>\n",
       "      <td>Piscine/Jardin/Spa</td>\n",
       "    </tr>\n",
       "    <tr>\n",
       "      <th>3</th>\n",
       "      <td>Appartement cosy</td>\n",
       "      <td>120000</td>\n",
       "      <td>2024-11-15 12:00:00</td>\n",
       "      <td>2</td>\n",
       "      <td>1</td>\n",
       "      <td>70</td>\n",
       "      <td>https://example.com/appartement2</td>\n",
       "      <td>Fès</td>\n",
       "      <td>Ascenseur</td>\n",
       "    </tr>\n",
       "    <tr>\n",
       "      <th>4</th>\n",
       "      <td>Maison moderne</td>\n",
       "      <td>320000</td>\n",
       "      <td>2024-11-18 09:00:00</td>\n",
       "      <td>5</td>\n",
       "      <td>3</td>\n",
       "      <td>250</td>\n",
       "      <td>https://example.com/maison2</td>\n",
       "      <td>Tanger</td>\n",
       "      <td>Piscine/Garage</td>\n",
       "    </tr>\n",
       "  </tbody>\n",
       "</table>\n",
       "</div>"
      ],
      "text/plain": [
       "                  title   price             datetime  nb_rooms  nb_baths  \\\n",
       "0   Maison avec piscine  250000  2024-12-01 14:00:00         4         2   \n",
       "1  Appartement spacieux  150000  2024-12-05 10:00:00         3         1   \n",
       "2         Villa de luxe  500000  2024-11-20 18:00:00         6         4   \n",
       "3      Appartement cosy  120000  2024-11-15 12:00:00         2         1   \n",
       "4        Maison moderne  320000  2024-11-18 09:00:00         5         3   \n",
       "\n",
       "   surface_area                              link   city_name  \\\n",
       "0           120       https://example.com/maison1  Casablanca   \n",
       "1            85  https://example.com/appartement1       Rabat   \n",
       "2           300        https://example.com/villa1   Marrakech   \n",
       "3            70  https://example.com/appartement2         Fès   \n",
       "4           250       https://example.com/maison2      Tanger   \n",
       "\n",
       "            equipements  \n",
       "0  Piscine/Sauna/Garage  \n",
       "1      Balcon/Ascenseur  \n",
       "2    Piscine/Jardin/Spa  \n",
       "3             Ascenseur  \n",
       "4        Piscine/Garage  "
      ]
     },
     "execution_count": 3,
     "metadata": {},
     "output_type": "execute_result"
    }
   ],
   "source": [
    "df.head()"
   ]
  },
  {
   "cell_type": "code",
   "execution_count": 6,
   "metadata": {},
   "outputs": [
    {
     "name": "stdout",
     "output_type": "stream",
     "text": [
      "<class 'pandas.core.frame.DataFrame'>\n",
      "RangeIndex: 12 entries, 0 to 11\n",
      "Data columns (total 9 columns):\n",
      " #   Column        Non-Null Count  Dtype \n",
      "---  ------        --------------  ----- \n",
      " 0   title         12 non-null     object\n",
      " 1   price         12 non-null     int64 \n",
      " 2   datetime      12 non-null     object\n",
      " 3   nb_rooms      12 non-null     int64 \n",
      " 4   nb_baths      12 non-null     int64 \n",
      " 5   surface_area  12 non-null     int64 \n",
      " 6   link          12 non-null     object\n",
      " 7   city_name     12 non-null     object\n",
      " 8   equipements   12 non-null     object\n",
      "dtypes: int64(4), object(5)\n",
      "memory usage: 996.0+ bytes\n"
     ]
    }
   ],
   "source": [
    "df.info()"
   ]
  },
  {
   "cell_type": "code",
   "execution_count": 13,
   "metadata": {},
   "outputs": [],
   "source": [
    "df['title'] = df['title'].fillna('').astype(str)\n",
    "df['link'] = df['link'].astype(str)\n",
    "df['city_name'] = df['city_name'].astype(str)\n",
    "df['equipements'] = df['equipements'].astype(str)\n"
   ]
  },
  {
   "cell_type": "code",
   "execution_count": 18,
   "metadata": {},
   "outputs": [
    {
     "data": {
      "text/plain": [
       "title           object\n",
       "price            int64\n",
       "datetime        object\n",
       "nb_rooms         int64\n",
       "nb_baths         int64\n",
       "surface_area     int64\n",
       "link            object\n",
       "city_name       object\n",
       "equipements     object\n",
       "dtype: object"
      ]
     },
     "execution_count": 18,
     "metadata": {},
     "output_type": "execute_result"
    }
   ],
   "source": [
    "df.dtypes"
   ]
  },
  {
   "cell_type": "code",
   "execution_count": null,
   "metadata": {},
   "outputs": [],
   "source": []
  }
 ],
 "metadata": {
  "kernelspec": {
   "display_name": ".venv",
   "language": "python",
   "name": "python3"
  },
  "language_info": {
   "codemirror_mode": {
    "name": "ipython",
    "version": 3
   },
   "file_extension": ".py",
   "mimetype": "text/x-python",
   "name": "python",
   "nbconvert_exporter": "python",
   "pygments_lexer": "ipython3",
   "version": "3.12.3"
  }
 },
 "nbformat": 4,
 "nbformat_minor": 2
}
